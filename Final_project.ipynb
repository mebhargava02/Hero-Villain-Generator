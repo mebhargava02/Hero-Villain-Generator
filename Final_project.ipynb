{
  "cells": [
    {
      "cell_type": "markdown",
      "metadata": {
        "id": "view-in-github",
        "colab_type": "text"
      },
      "source": [
        "<a href=\"https://colab.research.google.com/github/mebhargava02/Hero-Villain-Generator/blob/main/Final_project.ipynb\" target=\"_parent\"><img src=\"https://colab.research.google.com/assets/colab-badge.svg\" alt=\"Open In Colab\"/></a>"
      ]
    },
    {
      "cell_type": "code",
      "execution_count": null,
      "metadata": {
        "colab": {
          "background_save": true,
          "base_uri": "https://localhost:8080/"
        },
        "id": "4vFGVd0EK1n7",
        "outputId": "e6a68350-3e90-4c0a-95d5-507c445007b8"
      },
      "outputs": [
        {
          "name": "stdout",
          "output_type": "stream",
          "text": [
            "You have ended the program. Thank you!\n"
          ]
        }
      ],
      "source": [
        "import random\n",
        "\n",
        "#info/data for the program\n",
        "\n",
        "hero_fname = [\"Anung Un\",\"Abe\", \"Liz\", \"Abraham\", \"Ash\", \"James\",\"Thor\", \"Bumble Bee\"]\n",
        "\n",
        "hero_lname = [\"Rama (Hellboy)\", \"Sapien\", \"Sherman\",\"Van Helsing\", \"Williams\", \"Kirk\", \"\", \"\"]\n",
        "\n",
        "hero_species = [\"Demon\", \"Ichthyo sapien\", \"Asgardan\", \"Human\"]\n",
        "\n",
        "hero_characteristics = [\"Right Hand of Doom\", \"Possibly Immortal\", \"Psychic Abilities\", \"Pyrokenesis\", \"Extreme Intelligence\", \"Chainsaw Hand\", \"Phaser\", \"Hammer\", \"Size Shifting\", \"Enhanced Agility\"]\n",
        "\n",
        "hero_weaknesses = [\"Insecurity\", \"Jealousy\", \"Cannot be out of water for long\", \"Uncontrollable Rage\", \"Prone to Obsession\", \"Impulsive\", \"Recklessness\", \"Short Tempered\", \"Lack of Confidence\"]\n",
        "\n",
        "villain_fname = [\"Grigori\", \"Herman\", \"Ilsa\", \"Vlad\", \"\", \"Khan\", \"Loki\", \"Brother Blood\"]\n",
        "\n",
        "villain_lname = [\"Rasputin\", \"von Klempt\", \"Von Hapustein\",\"Tepes\", \"Evil Force\", \"Singh\", \"\", \"\"]\n",
        "\n",
        "villain_species = [\"Human\", \"Cyborg\", \"Human\",\"Vampire\", \"Demon\", \"Homo Superior\", \"Frost Giant\"]\n",
        "\n",
        "villain_characteristics = [\"Master of the Dark Arts\", \"Genius Intellect\", \"Trained Soldier\", \"Controls Human Minds\", \"Turns Humans Evil\", \"Superhuman Strength and Intelligence\", \"Shape Shifting\", \"Extremely Cunning\", \"Mind Control\",]\n",
        "\n",
        "villain_weaknesses = [\"Physical body was destroyed\", \"Is a head in a jar\", \"Too trusting of Rasputin\", \"Destroyed by Sunlight\", \"Kandarian Dagger\", \"Excessive Pride\", \"Impulsiveness\", \"Cyborg's Resistance to Mind Control\"]\n",
        "\n",
        "#function to generate character\n",
        "def generate_character():\n",
        "    h_first_name = None #this way, the variables will have a value of None until they are assigned a value in the while loop.\n",
        "    h_last_name = None\n",
        "    h_species = None\n",
        "    v_first_name = None\n",
        "    v_last_name = None\n",
        "    v_species = None\n",
        "\n",
        "#ifs/elifs for conditions for hero and villain. Getting the user to input information for the program to run.\n",
        "    while True:\n",
        "        character_type = input(\"Do you want to generate a hero or a villain? Enter 'H' for hero or 'V' for villain... if you want to quit enter 'Q': \")\n",
        "        if character_type.upper() == 'H':\n",
        "            name_prefix = \"Super\"\n",
        "            h_first_name = input(f\"Enter a first name: {hero_fname}\")\n",
        "            if h_first_name.title() in hero_fname:\n",
        "              h_first_name = h_first_name.title()\n",
        "            h_last_name = input(f\"Enter a last name: {hero_lname}\")\n",
        "            if h_last_name.title() in hero_lname:\n",
        "              h_last_name = h_last_name.title()\n",
        "            h_species = input(f\"Enter a species: {hero_species}\")\n",
        "            if h_species.title() in hero_species:\n",
        "              h_species = h_species.title()\n",
        "            characteristics = random.choice(hero_characteristics)\n",
        "            weaknesses = random.choice(hero_weaknesses)\n",
        "            break\n",
        "        elif character_type.upper() == 'V':\n",
        "            name_prefix = \"Evil\"\n",
        "            v_first_name = input(f\"Enter a first name: {villain_fname}\")\n",
        "            if v_first_name.title() in villain_fname:\n",
        "              v_first_name = v_first_name.title()\n",
        "            v_last_name = input(f\"Enter a last name: {villain_lname}\")\n",
        "            if v_last_name.title() in villain_lname:\n",
        "              v_last_name = v_last_name.title()\n",
        "            v_species = input(f\"Enter a species: {villain_species}\")\n",
        "            if v_species.title() in villain_species:\n",
        "              v_species = v_species.title()\n",
        "            characteristics = random.choice(villain_characteristics)\n",
        "            weaknesses = random.choice(villain_weaknesses)\n",
        "            break\n",
        "        elif character_type.upper() == 'Q':\n",
        "            print(\"You have ended the program. Thank you!\")\n",
        "            exit()\n",
        "        else:\n",
        "            print(\"Invalid input. Please enter either 'H', 'V' or 'Q'.\")\n",
        "\n",
        "\n",
        "#formatting info for better readability \n",
        "    full_name = f\"{name_prefix} {h_first_name or v_first_name or ''} {h_last_name or v_last_name or ''}\"\n",
        "    chosen_species = f\"{h_species or v_species}\"\n",
        "    character = {\n",
        "        \"type\": character_type.upper(),\n",
        "        \"name\": full_name,\n",
        "        \"species\": chosen_species, \n",
        "        \"characteristics\": characteristics, \n",
        "        \"weaknesses\": weaknesses\n",
        "    }\n",
        "    \n",
        "    print(f\"Generated character:\\n{character}\")\n",
        "    return character\n",
        "\n",
        "#saving character in a txt file\n",
        "def save_character(character):\n",
        "    origin_story = input(\"Enter an origin story for the character (up to 250 words): \")\n",
        "    character['origin_story'] = origin_story[:250]\n",
        "    with open(\"characters.txt\", \"a\") as file:\n",
        "        file.write(str(character) + \"\\n\")\n",
        "\n",
        "\n",
        "#running the main program\n",
        "def main():\n",
        "    while True:\n",
        "        character = generate_character()\n",
        "        while True:\n",
        "            keep = input(\"Do you want to keep this character? Enter 'Y' for yes or 'N' for no: \")\n",
        "            if keep.upper() == 'Y':\n",
        "                save_character(character)\n",
        "                break\n",
        "            elif keep.upper() == 'N':\n",
        "                break\n",
        "            else:\n",
        "                print(\"Invalid input. Please enter either 'Y' or 'N'.\")\n",
        "        if keep.upper() == 'N':\n",
        "            again = input(\"Do you want to try again? Enter 'Y' for yes or 'N' for no: \")\n",
        "            if again.upper() == 'N':\n",
        "                print(\"Thank you for using the program.\")\n",
        "                break\n",
        "\n",
        "if __name__ == '__main__':\n",
        "    main()\n"
      ]
    }
  ],
  "metadata": {
    "colab": {
      "provenance": [],
      "authorship_tag": "ABX9TyNeLL4XliqxcTa3pZ+qyTPC",
      "include_colab_link": true
    },
    "kernelspec": {
      "display_name": "Python 3",
      "name": "python3"
    },
    "language_info": {
      "name": "python"
    }
  },
  "nbformat": 4,
  "nbformat_minor": 0
}